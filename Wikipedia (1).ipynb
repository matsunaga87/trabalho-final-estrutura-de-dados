{
  "cells": [
    {
      "cell_type": "code",
      "execution_count": null,
      "metadata": {
        "colab": {
          "base_uri": "https://localhost:8080/"
        },
        "id": "zyD6-e-34h5P",
        "outputId": "3a2bcb52-e055-4461-a3b0-a828be8cad52"
      },
      "outputs": [
        {
          "output_type": "stream",
          "name": "stdout",
          "text": [
            "Looking in indexes: https://pypi.org/simple, https://us-python.pkg.dev/colab-wheels/public/simple/\n",
            "Collecting networkx==2.6.3\n",
            "  Downloading networkx-2.6.3-py3-none-any.whl (1.9 MB)\n",
            "\u001b[K     |████████████████████████████████| 1.9 MB 8.6 MB/s \n",
            "\u001b[?25hInstalling collected packages: networkx\n",
            "  Attempting uninstall: networkx\n",
            "    Found existing installation: networkx 2.8.8\n",
            "    Uninstalling networkx-2.8.8:\n",
            "      Successfully uninstalled networkx-2.8.8\n",
            "Successfully installed networkx-2.6.3\n"
          ]
        }
      ],
      "source": [
        "# always check the current version in github\n",
        "!pip install networkx==2.6.3"
      ]
    },
    {
      "cell_type": "code",
      "execution_count": null,
      "metadata": {
        "colab": {
          "base_uri": "https://localhost:8080/"
        },
        "id": "sQcOSXayXX1W",
        "outputId": "09b13758-b6dc-4449-b46a-0cd8cfe78f1f"
      },
      "outputs": [
        {
          "output_type": "stream",
          "name": "stdout",
          "text": [
            "Looking in indexes: https://pypi.org/simple, https://us-python.pkg.dev/colab-wheels/public/simple/\n",
            "Collecting wikipedia\n",
            "  Downloading wikipedia-1.4.0.tar.gz (27 kB)\n",
            "Requirement already satisfied: beautifulsoup4 in /usr/local/lib/python3.8/dist-packages (from wikipedia) (4.6.3)\n",
            "Requirement already satisfied: requests<3.0.0,>=2.0.0 in /usr/local/lib/python3.8/dist-packages (from wikipedia) (2.23.0)\n",
            "Requirement already satisfied: idna<3,>=2.5 in /usr/local/lib/python3.8/dist-packages (from requests<3.0.0,>=2.0.0->wikipedia) (2.10)\n",
            "Requirement already satisfied: chardet<4,>=3.0.2 in /usr/local/lib/python3.8/dist-packages (from requests<3.0.0,>=2.0.0->wikipedia) (3.0.4)\n",
            "Requirement already satisfied: urllib3!=1.25.0,!=1.25.1,<1.26,>=1.21.1 in /usr/local/lib/python3.8/dist-packages (from requests<3.0.0,>=2.0.0->wikipedia) (1.24.3)\n",
            "Requirement already satisfied: certifi>=2017.4.17 in /usr/local/lib/python3.8/dist-packages (from requests<3.0.0,>=2.0.0->wikipedia) (2022.9.24)\n",
            "Building wheels for collected packages: wikipedia\n",
            "  Building wheel for wikipedia (setup.py) ... \u001b[?25l\u001b[?25hdone\n",
            "  Created wheel for wikipedia: filename=wikipedia-1.4.0-py3-none-any.whl size=11695 sha256=6da48195ece86cc0ea09ed3272d482396f21cea69a1c7d302b77b63f1f78caec\n",
            "  Stored in directory: /root/.cache/pip/wheels/07/93/05/72c05349177dca2e0ba31a33ba4f7907606f7ddef303517c6a\n",
            "Successfully built wikipedia\n",
            "Installing collected packages: wikipedia\n",
            "Successfully installed wikipedia-1.4.0\n"
          ]
        }
      ],
      "source": [
        "!pip install wikipedia"
      ]
    },
    {
      "cell_type": "code",
      "execution_count": null,
      "metadata": {
        "id": "MINWDN4gTzAC"
      },
      "outputs": [],
      "source": [
        "from operator import itemgetter\n",
        "import networkx as nx\n",
        "import wikipedia\n",
        "import matplotlib.pyplot as plt"
      ]
    },
    {
      "cell_type": "code",
      "execution_count": null,
      "metadata": {
        "colab": {
          "base_uri": "https://localhost:8080/",
          "height": 36
        },
        "id": "lVqdt1994G2J",
        "outputId": "583ab9ed-b427-4b81-a69c-3257fe762f38"
      },
      "outputs": [
        {
          "output_type": "execute_result",
          "data": {
            "text/plain": [
              "'2.6.3'"
            ],
            "application/vnd.google.colaboratory.intrinsic+json": {
              "type": "string"
            }
          },
          "metadata": {},
          "execution_count": 5
        }
      ],
      "source": [
        "nx.__version__"
      ]
    },
    {
      "cell_type": "code",
      "execution_count": null,
      "metadata": {
        "id": "YPTw8l5iT7z9"
      },
      "outputs": [],
      "source": [
        "#https://en.wikipedia.org/wiki/Complex_network\n",
        "SEED = \"Rio Grande do Norte\".title()\n",
        "STOPS = (\"International Standard Serial Number\",\n",
        "         \"International Standard Book Number\",\n",
        "         \"National Diet Library\",\n",
        "         \"International Standard Name Identifier\",\n",
        "         \"International Standard Book Number (Identifier)\",\n",
        "         \"Pubmed Identifier\", \n",
        "         \"Pubmed Central\",\n",
        "         \"Digital Object Identifier\", \n",
        "         \"Arxiv\",\n",
        "         \"Proc Natl Acad Sci Usa\", \n",
        "         \"Bibcode\",\n",
        "         \"Library Of Congress Control Number\", \n",
        "         \"Jstor\",\n",
        "         \"Doi (Identifier)\",\n",
        "         \"Isbn (Identifier)\",\n",
        "         \"Pmid (Identifier)\",\n",
        "         \"Arxiv (Identifier)\",\n",
        "         \"Bibcode (Identifier)\")"
      ]
    },
    {
      "cell_type": "code",
      "execution_count": null,
      "metadata": {
        "id": "sy1gJQxwYdNi"
      },
      "outputs": [],
      "source": [
        "todo_lst = [(0, SEED)] # The SEED is in the layer 0\n",
        "todo_set = set(SEED) # The SEED itself\n",
        "done_set = set() # Nothing is done yet"
      ]
    },
    {
      "cell_type": "code",
      "execution_count": null,
      "metadata": {
        "id": "z04Y-it9g5OR"
      },
      "outputs": [],
      "source": [
        "g = nx.DiGraph()\n",
        "layer, page = todo_lst[0]"
      ]
    },
    {
      "cell_type": "code",
      "execution_count": null,
      "metadata": {
        "colab": {
          "base_uri": "https://localhost:8080/"
        },
        "id": "ucGHcQ4-hP4V",
        "outputId": "d574dcc2-810a-4686-c361-11ad1a710840"
      },
      "outputs": [
        {
          "output_type": "stream",
          "name": "stdout",
          "text": [
            "0 Rio Grande Do Norte\n",
            "1 2014 Fifa World Cup\n",
            "1 Abc Futebol Clube\n",
            "1 Acari, Rio Grande Do Norte\n",
            "1 Acre (State)\n",
            "1 Administrative Divisions Of Brazil\n",
            "1 Afonso Bezerra\n",
            "1 Agriculture In Brazil\n",
            "1 Airstrike\n",
            "1 Alagoas\n",
            "1 Alecrim Futebol Clube\n",
            "1 Alexandria, Rio Grande Do Norte\n",
            "1 Allies Of World War Ii\n",
            "1 Almino Afonso\n",
            "1 Alonso De Ojeda\n",
            "1 Alto Do Rodrigues\n",
            "1 Amapá\n",
            "1 Amazon Basin\n",
            "1 Amazonas (Brazilian State)\n",
            "1 American English\n",
            "1 Amerigo Vespucci\n",
            "1 América Futebol Clube (Rn)\n",
            "1 André Vidal De Negreiros\n",
            "1 Angicos\n",
            "1 Animal Husbandry In Brazil\n",
            "1 Antarctica\n",
            "1 Antônio Martins\n",
            "1 Apodi, Rio Grande Do Norte\n",
            "1 Archipelago\n",
            "1 Areia Branca, Rio Grande Do Norte\n",
            "1 Arena Das Dunas\n",
            "1 Arês, Rio Grande Do Norte\n",
            "1 Assu, Rio Grande Do Norte\n",
            "1 Atlantic Ocean\n",
            "1 Atol Das Rocas Biological Reserve\n",
            "1 Atoll\n"
          ]
        },
        {
          "output_type": "stream",
          "name": "stderr",
          "text": [
            "/usr/local/lib/python3.8/dist-packages/wikipedia/wikipedia.py:389: UserWarning: No parser was explicitly specified, so I'm using the best available HTML parser for this system (\"lxml\"). This usually isn't a problem, but if you run this code on another system, or in a different virtual environment, it may use a different parser and behave differently.\n",
            "\n",
            "The code that caused this warning is on line 389 of the file /usr/local/lib/python3.8/dist-packages/wikipedia/wikipedia.py. To get rid of this warning, pass the additional argument 'features=\"lxml\"' to the BeautifulSoup constructor.\n",
            "\n",
            "  lis = BeautifulSoup(html).find_all('li')\n"
          ]
        },
        {
          "output_type": "stream",
          "name": "stdout",
          "text": [
            "Could not load Atoll\n",
            "1 Augusto Severo International Airport\n",
            "1 Automotive Industry In Brazil\n",
            "1 Açu\n",
            "1 Br-101\n",
            "Could not load Br-101\n",
            "1 Br-104\n",
            "Could not load Br-104\n",
            "1 Br-110\n",
            "Could not load Br-110\n",
            "1 Br-226\n",
            "1 Br-304\n",
            "Could not load Br-304\n",
            "1 Br-405\n",
            "Could not load Br-405\n",
            "1 Br-406\n",
            "Could not load Br-406\n",
            "1 Br-427\n",
            "Could not load Br-427\n",
            "1 Bahia\n",
            "1 Baraúna, Rio Grande Do Norte\n",
            "1 Barcelona, Rio Grande Do Norte\n",
            "1 Barrier Of Hell Launch Center\n",
            "1 Baía Formosa\n",
            "1 Beach\n",
            "Could not load Beach\n",
            "1 Bento Fernandes\n",
            "1 Bibliography Of Brazil\n",
            "1 Boa Saúde\n",
            "1 Bodó\n",
            "1 Bolsa Família\n",
            "1 Bom Jesus, Rio Grande Do Norte\n",
            "1 Bonfires\n",
            "1 Brazil\n",
            "1 Brazilian Antarctica\n",
            "1 Brazilian Armed Forces\n",
            "1 Brazilian Carnival\n",
            "1 Brazilian Institute Of Geography And Statistics\n",
            "1 Brazilian Portuguese\n",
            "1 Brazilian Art\n",
            "1 Brazilian Comics\n",
            "1 Brazilian Cuisine\n",
            "1 Brazilian Literature\n",
            "1 Brazilian Mythology\n",
            "1 Brazilian Painting\n",
            "1 Brazilian Real\n",
            "1 Brazilian Science Fiction\n",
            "1 Brazilian Sculpture\n",
            "1 Brazilians\n",
            "1 Brazilwood\n",
            "1 Brejinho, Rio Grande Do Norte\n",
            "1 British English\n",
            "1 Caicó\n",
            "1 Caiçara Do Norte\n",
            "1 Caiçara Do Rio Do Vento\n",
            "1 Calvinism\n",
            "1 Campo Grande, Rio Grande Do Norte\n",
            "1 Campo Redondo, Rio Grande Do Norte\n",
            "1 Canguaretama\n",
            "1 Cape São Roque\n",
            "1 Caraúbas, Rio Grande Do Norte\n",
            "1 Carnatal\n",
            "1 Carnauba\n",
            "1 Carnaubais\n",
            "1 Carnaúba Dos Dantas\n",
            "1 Carnival\n",
            "1 Cashew\n",
            "Could not load Cashew\n",
            "1 Cashew Of Pirangi\n",
            "1 Ceará\n",
            "1 Ceará-Mirim\n",
            "1 Central-West Region, Brazil\n",
            "1 Central Bank Of Brazil\n",
            "1 Cerro Corá, Rio Grande Do Norte\n",
            "1 Cinema Of Brazil\n",
            "1 Circumference\n",
            "1 Climate Of Brazil\n",
            "1 Coastline Of Brazil\n",
            "1 Coat Of Arms Of Rio Grande Do Norte\n",
            "1 Coconut\n",
            "1 Colonial Brazil\n",
            "1 Communist Party Of Brazil\n",
            "1 Constitution Of Brazil\n",
            "1 Coronel Ezequiel\n",
            "1 Coronel João Pessoa\n",
            "Could not load Coronel João Pessoa\n",
            "1 Corruption In Brazil\n",
            "1 Crime In Brazil\n",
            "1 Crustacean\n",
            "1 Cruzeta\n",
            "1 Culture Of Brazil\n",
            "1 Cunhaú\n",
            "1 Currais Novos\n",
            "1 Demographics Of Brazil\n",
            "1 Demonym\n",
            "1 Doutor Severiano\n",
            "1 Dune\n",
            "1 Economic History Of Brazil\n",
            "1 Economy Of Brazil\n",
            "1 Education In Brazil\n",
            "1 Elections In Brazil\n",
            "1 Empire Of Brazil\n",
            "1 Encanto, Rio Grande Do Norte\n",
            "1 Energy In Brazil\n",
            "1 Equador, Rio Grande Do Norte\n",
            "1 Espírito Santo\n",
            "1 Espírito Santo, Rio Grande Do Norte\n",
            "1 European Portuguese\n",
            "1 Extraction Of Petroleum\n",
            "1 Extremoz\n",
            "1 Federal District (Brazil)\n",
            "1 Federal Senate (Brazil)\n",
            "1 Federal University Of Rio Grande Do Norte\n",
            "1 Federal Government Of Brazil\n",
            "1 Federative Units Of Brazil\n",
            "1 Felipe Guerra\n",
            "1 Fernando Pedroza, Rio Grande Do Norte\n",
            "1 Fernando De Noronha\n",
            "1 Festa Junina\n",
            "1 Fireworks\n",
            "1 First Brazilian Republic\n",
            "1 Flag Of Rio Grande Do Norte\n",
            "1 Florânia\n",
            "1 Foreign Relations Of Brazil\n",
            "1 Forte Dos Reis Magos\n",
            "1 Fourth Brazilian Republic\n",
            "1 Francisco Dantas\n",
            "1 Frutuoso Gomes\n",
            "1 Fátima Bezerra\n",
            "1 Gdp\n",
            "Could not load Gdp\n",
            "1 Galinhos\n",
            "1 Genipabu\n",
            "1 Geographic Coordinate System\n",
            "1 Geography Of Brazil\n",
            "1 Geology Of Brazil\n",
            "1 Goianinha\n",
            "1 Goiás\n",
            "1 Governador Dix-Sept Rosado\n",
            "1 Governance Of Brazil\n",
            "1 Government Of Brazil\n",
            "1 Governor (Brazil)\n",
            "1 Greater Natal International Airport\n",
            "1 Grossos\n",
            "1 Guamaré\n",
            "1 Health In Brazil\n",
            "1 History Of Brazil\n",
            "1 History Of Brazil (1985–Present)\n",
            "1 History Of Brazilian Animation\n",
            "1 History Of Rio Grande Do Norte\n",
            "1 Human Development Index\n",
            "1 Human Rights In Brazil\n",
            "1 Iso 3166\n",
            "1 Iso 3166-2:Br\n",
            "1 Ielmo Marinho\n",
            "1 Immigration To Brazil\n",
            "1 Income Inequality In Brazil\n",
            "1 Index Of Brazil-Related Articles\n",
            "1 Indigenous Peoples In Brazil\n",
            "1 Industrial Sector\n",
            "Could not load Industrial Sector\n",
            "1 Industry In Brazil\n",
            "1 Infrastructure Of Brazil\n",
            "1 Ipanguaçu\n",
            "1 Ipueira\n",
            "Could not load Ipueira\n",
            "1 Itajá, Rio Grande Do Norte\n",
            "1 Itaú, Rio Grande Do Norte\n",
            "1 Jandaíra, Rio Grande Do Norte\n",
            "1 Janduís\n",
            "1 Japi\n",
            "1 Jardim De Angicos\n",
            "1 Jardim De Piranhas\n",
            "1 Jardim Do Seridó\n",
            "1 Jaçanã, Rio Grande Do Norte\n",
            "1 José Da Penha\n",
            "1 João Câmara\n",
            "1 João Câmara, Rio Grande Do Norte\n",
            "1 João Dias\n",
            "1 João Fernandes Vieira\n",
            "1 Jucurutu\n",
            "1 Judiciary Of Brazil\n",
            "1 Jundiá, Rio Grande Do Norte\n",
            "1 Lagoa Nova\n",
            "1 Lagoa Salgada\n",
            "Could not load Lagoa Salgada\n",
            "1 Lagoa D'Anta\n",
            "1 Lagoa De Pedras\n",
            "1 Lagoa De Velhos\n",
            "1 Lajes, Rio Grande Do Norte\n",
            "1 Lajes Pintadas\n",
            "1 Languages Of Brazil\n",
            "1 Largest Cities Of Northeastern Brazil\n",
            "1 Law Enforcement In Brazil\n",
            "1 Law Of Brazil\n",
            "1 Lexico\n",
            "1 Littoral\n",
            "1 Lucrécia\n",
            "1 Luís Gomes\n",
            "1 Luís Da Câmara Cascudo\n",
            "1 Mbarea (Identifier)\n",
            "1 Macau, Rio Grande Do Norte\n",
            "1 Macaíba\n",
            "1 Major Sales\n",
            "Could not load Major Sales\n",
            "1 Malandragem\n",
            "1 Mango\n",
            "1 Mangrove\n",
            "1 Maracajaú\n",
            "1 Maranhão\n",
            "1 Marcelino Vieira\n",
            "1 Martins, Rio Grande Do Norte\n",
            "1 Mato Grosso\n",
            "1 Mato Grosso Do Sul\n",
            "1 Maxaranguape\n",
            "1 Member States Of The World Sports Alliance\n",
            "1 Merriam-Webster\n",
            "1 Mesoregion (Brazil)\n",
            "1 Messias Targino\n",
            "1 Microrregião Da Baixa Verde\n",
            "1 Microrregião Da Borborema Potiguar\n",
            "1 Microrregião Da Chapada Do Apodi\n",
            "1 Microrregião De Macau\n",
            "1 Microrregião De Macaíba\n",
            "Could not load Microrregião De Macaíba\n",
            "1 Microrregião De Mossoró\n",
            "1 Microrregião De Natal\n",
            "1 Microrregião De Pau Dos Ferros\n",
            "1 Microrregião Do Agreste Potiguar\n",
            "1 Microrregião Do Litoral Nordeste\n",
            "1 Microrregião Do Litoral Sul (Rio Grande Do Norte)\n",
            "1 Microrregião Do Seridó Ocidental\n",
            "1 Microrregião Do Seridó Oriental\n",
            "1 Microrregião Do Vale Do Açu\n",
            "1 Midsummer\n",
            "1 Military Dictatorship In Brazil\n",
            "1 Military Of Brazil\n",
            "1 Minas Gerais\n",
            "1 Mining In Brazil\n",
            "1 Montanhas\n",
            "1 Monte Alegre, Rio Grande Do Norte\n",
            "1 Monte Das Gameleiras\n",
            "1 Mossoró\n",
            "1 Murder Rate\n",
            "1 Music Of Brazil\n",
            "1 Nasa\n",
            "1 Natal, Rio Grande Do Norte\n",
            "1 Natal Dunes State Park\n",
            "1 National Congress Of Brazil\n",
            "1 National Symbols Of Brazil\n",
            "1 North Region, Brazil\n",
            "1 Northeast Region, Brazil\n",
            "1 Nova Cruz\n",
            "1 Nova Cruz, Rio Grande Do Norte\n",
            "1 Nísia Floresta, Rio Grande Do Norte\n",
            "1 Olho-D'Água Do Borges\n",
            "1 Olinda\n",
            "1 Ouro Branco, Rio Grande Do Norte\n",
            "1 Outline Of Brazil\n",
            "1 Oxford University Press\n",
            "1 Pantanal\n",
            "Could not load Pantanal\n",
            "1 Paraná, Rio Grande Do Norte\n",
            "1 Paraná (State)\n",
            "1 Parazinho\n",
            "1 Paraíba\n",
            "1 Paraú\n",
            "1 Parelhas\n",
            "1 Parnamirim\n",
            "1 Parnamirim, Rio Grande Do Norte\n",
            "1 Pará\n",
            "1 Passa E Fica\n",
            "1 Passagem, Rio Grande Do Norte\n",
            "1 Patu, Rio Grande Do Norte\n",
            "1 Pau Dos Ferros\n",
            "1 Pedra Grande, Rio Grande Do Norte\n",
            "1 Pedra Preta, Rio Grande Do Norte\n",
            "1 Pedro Avelino\n",
            "1 Pedro Velho\n",
            "1 Pendências\n",
            "1 Pernambuco\n",
            "1 Piauí\n",
            "1 Pilões, Rio Grande Do Norte\n",
            "1 Pipa Beach\n",
            "1 Podemos (Brazil)\n",
            "1 Politics Of Brazil\n",
            "1 Ponta Negra\n",
            "Could not load Ponta Negra\n",
            "1 Portalegre, Rio Grande Do Norte\n",
            "1 Porto Do Mangue\n",
            "1 Portugal\n",
            "Could not load Portugal\n",
            "1 Portuguese Language\n",
            "1 Potengi River\n",
            "Could not load Potengi River\n",
            "1 Potenji River\n",
            "1 Potiguar (Tribe)\n",
            "1 Poço Branco\n",
            "1 President Of Brazil\n",
            "1 Presidente Juscelino\n",
            "1 Protected Areas Of Brazil\n",
            "1 Public Holidays In Brazil\n",
            "1 Pureza, Rio Grande Do Norte\n",
            "1 Rafael Fernandes, Rio Grande Do Norte\n",
            "1 Rafael Godeiro\n",
            "1 Rainforest\n",
            "1 Rampa, Natal\n",
            "1 Recife\n",
            "1 Regions Of Brazil\n",
            "1 Religion In Brazil\n",
            "1 Republican Party Of The Social Order\n",
            "1 Riacho Da Cruz\n",
            "1 Riacho De Santana, Rio Grande Do Norte\n",
            "1 Riachuelo, Rio Grande Do Norte\n",
            "1 Rio Grande\n",
            "Could not load Rio Grande\n",
            "1 Rio Grande Do Sul\n",
            "1 Rio De Janeiro (State)\n",
            "1 Rio Do Fogo\n",
            "1 Rocas Atoll\n",
            "1 Rodolfo Fernandes\n",
            "1 Rondônia\n",
            "1 Roraima\n",
            "1 Rotterdam\n",
            "1 Ruy Barbosa, Rio Grande Do Norte\n",
            "1 Saint Peter And Saint Paul Archipelago\n",
            "1 Saint Roch\n",
            "Could not load Saint Roch\n",
            "1 Sand\n",
            "Could not load Sand\n",
            "1 Sand Dune\n",
            "1 Santa Catarina (State)\n",
            "1 Santa Cruz, Rio Grande Do Norte\n",
            "1 Santa Maria, Rio Grande Do Norte\n",
            "1 Santana Do Matos\n",
            "1 Santana Do Seridó\n",
            "1 Santo Antônio, Rio Grande Do Norte\n",
            "1 Scandinavia\n",
            "Could not load Scandinavia\n",
            "1 Science And Technology In Brazil\n",
            "1 Sea Salt\n",
            "Could not load Sea Salt\n",
            "1 Seasalt\n",
            "1 Senador Elói De Souza\n",
            "1 Senador Georgino Avelino\n",
            "1 Sergipe\n",
            "1 Serra Negra Do Norte\n",
            "1 Serra De São Bento\n",
            "1 Serra Do Mel\n",
            "1 Serrinha, Rio Grande Do Norte\n",
            "1 Serrinha Dos Pintos\n",
            "1 Service Sector\n",
            "1 Severiano Melo\n",
            "1 Sheerness\n",
            "Could not load Sheerness\n",
            "1 Shrimp\n",
            "1 Social Issues In Brazil\n",
            "1 South Region, Brazil\n",
            "1 Southeast Region, Brazil\n",
            "1 Space Exploration\n",
            "Could not load Space Exploration\n",
            "1 Spain\n",
            "Could not load Spain\n",
            "1 Sport In Brazil\n",
            "1 States Of Brazil\n",
            "1 Styvenson Valentim\n",
            "1 Subdivisions Of Brazil\n",
            "1 Sugar Cane\n",
            "Could not load Sugar Cane\n",
            "1 Summer Solstice\n",
            "1 São Bento Do Norte\n",
            "1 São Bento Do Trairi\n",
            "1 São Fernando\n",
            "1 São Francisco Do Oeste\n",
            "1 São Gonçalo Do Amarante, Rio Grande Do Norte\n",
            "1 São José De Mipibu\n",
            "1 São José Do Campestre\n",
            "1 São José Do Seridó\n",
            "1 São João Do Sabugi\n",
            "1 São Miguel, Rio Grande Do Norte\n",
            "1 São Miguel Do Gostoso\n",
            "1 São Paulo (State)\n",
            "1 São Paulo Do Potengi\n",
            "1 São Pedro, Rio Grande Do Norte\n",
            "1 São Rafael, Rio Grande Do Norte\n",
            "1 São Tomé, Rio Grande Do Norte\n",
            "1 São Vicente, Rio Grande Do Norte\n",
            "1 Sítio Novo, Rio Grande Do Norte\n",
            "1 Taboleiro Grande\n",
            "1 Taipu, Rio Grande Do Norte\n",
            "1 Tangará, Rio Grande Do Norte\n",
            "1 Taxation In Brazil\n",
            "1 Telecommunications In Brazil\n",
            "1 Television In Brazil\n",
            "1 Tenente Ananias\n",
            "1 Tenente Laurentino Cruz\n",
            "1 Tibau\n",
            "1 Tibau Do Sul\n",
            "1 Timbaúba Dos Batistas\n",
            "1 Time In Brazil\n",
            "1 Time Zone\n",
            "Could not load Time Zone\n",
            "1 Timeline Of Brazilian History\n",
            "1 Tocantins\n",
            "1 Tourism In Brazil\n",
            "1 Touros\n",
            "1 Transport In Brazil\n",
            "1 Trindade And Martim Vaz\n",
            "1 Triunfo Potiguar\n",
            "1 Tupi Language\n",
            "1 Utc-3\n",
            "1 Umarizal\n",
            "1 Unemployment In Brazil\n",
            "1 United Kingdom Of Portugal, Brazil And The Algarves\n",
            "1 Upanema\n",
            "1 Uruaçu\n",
            "1 Viaf (Identifier)\n",
            "1 Vargas Era\n",
            "1 Vehicle Registration Plates Of Brazil\n",
            "1 Venha-Ver\n",
            "1 Vera Cruz, Rio Grande Do Norte\n",
            "1 Vigo\n",
            "Could not load Vigo\n",
            "1 Vila Flor, Rio Grande Do Norte\n",
            "1 Viçosa, Rio Grande Do Norte\n",
            "1 Várzea, Rio Grande Do Norte\n",
            "1 Water Resources Management In Brazil\n",
            "1 Water Supply And Sanitation In Brazil\n",
            "1 Wayback Machine\n",
            "1 Wildlife Of Brazil\n",
            "1 Winter Solstice\n",
            "1 Workers' Party (Brazil)\n",
            "1 Woven\n",
            "Could not load Woven\n",
            "1 Youth In Brazil\n",
            "1 Zenaide Maia\n",
            "1 Água Nova\n",
            "1 Índice Bovespa\n",
            "CPU times: user 27.1 s, sys: 1.78 s, total: 28.8 s\n",
            "Wall time: 5min 44s\n"
          ]
        }
      ],
      "source": [
        "%%time\n",
        "while layer < 2:\n",
        "  # Remove the name page of the current page from the todo_lst, \n",
        "  # and add it to the set of processed pages. \n",
        "  # If the script encounters this page again, it will skip over it.\n",
        "  del todo_lst[0]\n",
        "  done_set.add(page)\n",
        "  \n",
        "  # Show progress\n",
        "  print(layer, page) \n",
        "  \n",
        "  # Attempt to download the selected page.\n",
        "  try:\n",
        "    wiki = wikipedia.page(page)\n",
        "  except:\n",
        "    print(\"Could not load\", page)\n",
        "    layer, page = todo_lst[0]\n",
        "    continue\n",
        "  \n",
        "  for link in wiki.links:\n",
        "    link = link.title()\n",
        "    if link not in STOPS and not link.startswith(\"List Of\"):\n",
        "      if link not in todo_set and link not in done_set:\n",
        "        todo_lst.append((layer + 1, link))\n",
        "        todo_set.add(link)\n",
        "      g.add_edge(page, link)\n",
        "  layer, page = todo_lst[0]"
      ]
    },
    {
      "cell_type": "code",
      "execution_count": null,
      "metadata": {
        "colab": {
          "base_uri": "https://localhost:8080/"
        },
        "id": "JrtewM_hPqJa",
        "outputId": "d9466d82-192a-48c2-f581-7ac97db3a90d"
      },
      "outputs": [
        {
          "output_type": "stream",
          "name": "stdout",
          "text": [
            "44863 nodes, 163612 edges\n"
          ]
        }
      ],
      "source": [
        "print(\"{} nodes, {} edges\".format(len(g), nx.number_of_edges(g)))"
      ]
    },
    {
      "cell_type": "code",
      "execution_count": null,
      "metadata": {
        "id": "8VkbRjFcBQaX"
      },
      "outputs": [],
      "source": [
        "# make a copy of raw graph\n",
        "original = g.copy()"
      ]
    },
    {
      "cell_type": "code",
      "execution_count": null,
      "metadata": {
        "colab": {
          "base_uri": "https://localhost:8080/"
        },
        "id": "UFrNIuluN1__",
        "outputId": "aeba87a2-7b1d-444c-effc-f69cd824f9be"
      },
      "outputs": [
        {
          "output_type": "stream",
          "name": "stdout",
          "text": [
            "[('Cashew', 'Cashews'), ('Coconut', 'Coconuts'), ('Dune', 'Dunes'), ('Mango', 'Mangos'), ('Rainforest', 'Rainforests'), ('Sand Dune', 'Sand Dunes'), ('Tupi Language', 'Tupi Languages'), ('Favela', 'Favelas'), ('Afro-Brazilian', 'Afro-Brazilians'), ('Asian Brazilian', 'Asian Brazilians'), ('Ordinal Direction', 'Ordinal Directions'), ('Plantation', 'Plantations'), ('Rubber Tree', 'Rubber Trees'), ('Temperature', 'Temperatures'), ('White Brazilian', 'White Brazilians'), ('Sovereign State', 'Sovereign States'), ('Bean', 'Beans'), ('Brazil Nut', 'Brazil Nuts'), ('Grape', 'Grapes'), ('Herbicide', 'Herbicides'), ('Oat', 'Oats'), ('Onion', 'Onions'), ('Papaya', 'Papayas'), ('Pineapple', 'Pineapples'), ('Soybean', 'Soybeans'), ('Tangerine', 'Tangerines'), ('Atlantic Forest', 'Atlantic Forests'), ('Quilombo', 'Quilombos'), ('Papal Bull', 'Papal Bulls'), ('Tropical Cyclone', 'Tropical Cyclones'), ('Black Brazilian', 'Black Brazilians'), ('Pardo Brazilian', 'Pardo Brazilians'), ('Bird', 'Birds'), ('Insect', 'Insects'), ('Parrot', 'Parrots'), ('Tropical Forest', 'Tropical Forests'), ('Barreirinha', 'Barreirinhas'), ('Carmelite', 'Carmelites'), ('Catholic', 'Catholics'), ('Jesuit', 'Jesuits'), ('Savanna', 'Savannas'), ('Diphthong', 'Diphthongs'), ('Inuit Language', 'Inuit Languages'), ('Nasal Stop', 'Nasal Stops'), ('Chicken', 'Chickens'), ('Egg', 'Eggs'), ('Islet', 'Islets'), ('Tectonic', 'Tectonics'), ('Tonne', 'Tonnes'), ('Motor Vehicle', 'Motor Vehicles'), ('Tijuca', 'Tijucas'), ('Vehicle', 'Vehicles'), ('Capoeira', 'Capoeiras'), ('Diamond', 'Diamonds'), ('Goat', 'Goats'), ('Pride Fighting Championship', 'Pride Fighting Championships'), ('Acronym', 'Acronyms'), ('Arab Brazilian', 'Arab Brazilians'), ('Chiefdom', 'Chiefdoms'), ('Chinese Brazilian', 'Chinese Brazilians'), ('Emerald', 'Emeralds'), ('Emerging Power', 'Emerging Powers'), ('Empanada', 'Empanadas'), ('Ethnic Group', 'Ethnic Groups'), ('German Brazilian', 'German Brazilians'), ('Italian Brazilian', 'Italian Brazilians'), ('Japanese Brazilian', 'Japanese Brazilians'), ('Lusitanic', 'Lusitanics'), ('Plant', 'Plants'), ('Polish Brazilian', 'Polish Brazilians'), ('Portuguese Brazilian', 'Portuguese Brazilians'), ('Public Service', 'Public Services'), ('Soap Opera', 'Soap Operas'), ('Ukrainian Brazilian', 'Ukrainian Brazilians'), ('Wetland', 'Wetlands'), ('Wind Farm', 'Wind Farms'), ('Road', 'Roads'), ('Viking', 'Vikings'), ('Alligator', 'Alligators'), ('Disease', 'Diseases'), ('Protestant', 'Protestants'), ('Roman Catholic', 'Roman Catholics'), ('Superstition', 'Superstitions'), ('Amerindian', 'Amerindians'), ('Bandeirante', 'Bandeirantes'), ('Close-Mid Vowel', 'Close-Mid Vowels'), ('Gaucho', 'Gauchos'), ('Krenak Language', 'Krenak Languages'), ('Loanword', 'Loanwords'), ('Mineiro', 'Mineiros'), ('Munduruku Language', 'Munduruku Languages'), ('Nasal Vowel', 'Nasal Vowels'), ('Open-Mid Vowel', 'Open-Mid Vowels'), ('Tenetehara Language', 'Tenetehara Languages'), ('Cave Painting', 'Cave Paintings'), ('Webtoon', 'Webtoons'), ('Culinary Art', 'Culinary Arts'), ('Dutch Brazilian', 'Dutch Brazilians'), ('Tropical Fruit', 'Tropical Fruits'), ('Romance Language', 'Romance Languages'), ('Aesthetic', 'Aesthetics'), ('Indigenous People', 'Indigenous Peoples'), ('Saturn Award', 'Saturn Awards'), ('Afrikaner', 'Afrikaners'), ('Armenian Brazilian', 'Armenian Brazilians'), ('Austrian Brazilian', 'Austrian Brazilians'), ('Greek Brazilian', 'Greek Brazilians'), ('Irish Brazilian', 'Irish Brazilians'), ('Native Brazilian', 'Native Brazilians'), ('New Christian', 'New Christians'), ('Refugee', 'Refugees'), ('Spanish Brazilian', 'Spanish Brazilians'), ('Melanocyte', 'Melanocytes'), ('Penguin', 'Penguins'), ('Algarve', 'Algarves'), ('Bonfire', 'Bonfires'), ('Concubine', 'Concubines'), ('Croat', 'Croats'), ('Donkey', 'Donkeys'), ('Fair', 'Fairs'), ('Festival', 'Festivals'), ('Lutheran', 'Lutherans'), ('Ritual', 'Rituals'), ('Curralinho', 'Curralinhos'), ('Passenger', 'Passengers'), ('Piçarra', 'Piçarras'), ('Port', 'Ports'), ('Toponym', 'Toponyms'), ('Brazilian State', 'Brazilian States'), ('Academy Award', 'Academy Awards'), ('Carbohydrate', 'Carbohydrates'), ('Flower', 'Flowers'), ('Palm Tree', 'Palm Trees'), ('Jesuit Reduction', 'Jesuit Reductions'), ('Slave', 'Slaves'), ('Textile', 'Textiles'), ('Lebanese Brazilian', 'Lebanese Brazilians'), ('Trade Union', 'Trade Unions'), ('Constitutional Amendment', 'Constitutional Amendments'), ('Homicide', 'Homicides'), ('Non-Governmental Organization', 'Non-Governmental Organizations'), ('Barnacle', 'Barnacles'), ('Dance', 'Dances'), ('Human Race', 'Human Races'), ('Korean Brazilian', 'Korean Brazilians'), ('Theater', 'Theaters'), ('Wage', 'Wages'), ('Arab', 'Arabs'), ('Indigenous Brazilian', 'Indigenous Brazilians'), ('Mestizo', 'Mestizos'), ('Mizrahi Jew', 'Mizrahi Jews'), ('Presbyterian', 'Presbyterians'), ('Sephardic Jew', 'Sephardic Jews'), ('Syrian', 'Syrians'), ('Abrahamic Religion', 'Abrahamic Religions'), ('Angel', 'Angels'), ('Anu', 'Anus'), ('Evil Spirit', 'Evil Spirits'), ('Exorcism', 'Exorcisms'), ('Hobgoblin', 'Hobgoblins'), ('Fixed Exchange Rate', 'Fixed Exchange Rates'), ('Belgian Brazilian', 'Belgian Brazilians'), ('Bulgarian Brazilian', 'Bulgarian Brazilians'), ('Czech Brazilian', 'Czech Brazilians'), ('English Brazilian', 'English Brazilians'), ('French Brazilian', 'French Brazilians'), ('Hungarian Brazilian', 'Hungarian Brazilians'), ('Phosphate', 'Phosphates'), ('Scandinavian Brazilian', 'Scandinavian Brazilians'), ('Scottish Brazilian', 'Scottish Brazilians'), ('Swiss Brazilian', 'Swiss Brazilians'), ('Syrian Brazilian', 'Syrian Brazilians'), ('Fossil Fuel', 'Fossil Fuels'), ('Airport', 'Airports'), ('Sport', 'Sports'), ('Administrative Division', 'Administrative Divisions'), ('Alagoinha', 'Alagoinhas'), ('Gameleira', 'Gameleiras'), ('Paulista', 'Paulistas'), ('Final Good', 'Final Goods'), ('Firecracker', 'Firecrackers'), ('Firework', 'Fireworks'), ('Gemstone', 'Gemstones'), ('Hospital', 'Hospitals'), ('Intermediate Good', 'Intermediate Goods'), ('Mussel', 'Mussels'), ('Natural Resource', 'Natural Resources'), ('Pyrotechnic Star', 'Pyrotechnic Stars'), ('Raw Material', 'Raw Materials'), ('Scallop', 'Scallops'), ('Vaccine', 'Vaccines'), ('Pampa', 'Pampas'), ('Rapid', 'Rapids'), ('Shoe', 'Shoes'), ('Politic', 'Politics'), ('Croatian Brazilian', 'Croatian Brazilians'), ('Guarani Language', 'Guarani Languages'), ('National Interest', 'National Interests'), ('Mozarab', 'Mozarabs'), ('Saint', 'Saints'), ('Shia', 'Shias'), ('Yazidi', 'Yazidis'), ('Apiacá', 'Apiacás'), ('Jê Language', 'Jê Languages'), ('Chemical', 'Chemicals'), ('Regional Federal Court', 'Regional Federal Courts'), ('Germanic Language', 'Germanic Languages'), ('Minority Language', 'Minority Languages'), ('Xukuruan Language', 'Xukuruan Languages'), ('Neologism', 'Neologisms'), ('Oyster', 'Oysters'), ('Tsunami', 'Tsunamis'), ('Aerial Root', 'Aerial Roots'), ('Ecological Values Of Mangrove', 'Ecological Values Of Mangroves'), ('Matinha', 'Matinhas'), ('Angico', 'Angicos'), ('Araponga', 'Arapongas'), ('Barreira', 'Barreiras'), ('Braúna', 'Braúnas'), ('Buriti', 'Buritis'), ('Canavieira', 'Canavieiras'), ('Charqueada', 'Charqueadas'), ('Guariba', 'Guaribas'), ('Maravilha', 'Maravilhas'), ('Christian Denomination', 'Christian Denominations'), ('Aimoré', 'Aimorés'), ('Art', 'Arts'), ('Murder', 'Murders'), ('Boteco', 'Botecos'), ('Chemical Element', 'Chemical Elements'), ('Intermolecular Force', 'Intermolecular Forces'), ('Ion', 'Ions'), ('Molecule', 'Molecules'), ('Paleo-Indian', 'Paleo-Indians'), ('Celtic Language', 'Celtic Languages'), ('Phonetic', 'Phonetics'), ('Tupi–Guarani Language', 'Tupi–Guarani Languages'), ('Oxisol', 'Oxisols'), ('Seedling', 'Seedlings'), ('Snake', 'Snakes'), ('Brahma Kumari', 'Brahma Kumaris'), ('Christian', 'Christians'), ('Argentine', 'Argentines'), ('Italian-Brazilian', 'Italian-Brazilians'), ('Arikem Language', 'Arikem Languages'), ('Guarayu Language', 'Guarayu Languages'), ('Jabutí Language', 'Jabutí Languages'), ('Tuparí Language', 'Tuparí Languages'), ('Mormon', 'Mormons'), ('Small Appliance', 'Small Appliances'), ('Essential Nutrient', 'Essential Nutrients'), ('Telecommunication', 'Telecommunications'), ('Miracle', 'Miracles'), ('Window', 'Windows'), ('Ashkenazi Jew', 'Ashkenazi Jews'), ('Russian Brazilian', 'Russian Brazilians'), ('Volga German', 'Volga Germans'), ('Martial Art', 'Martial Arts'), ('Bric', 'Brics'), ('Waterway', 'Waterways'), ('Mondé Language', 'Mondé Languages'), ('Ramarama Language', 'Ramarama Languages'), ('Tupari Language', 'Tupari Languages'), ('Prince Edward Island', 'Prince Edward Islands'), ('Kingdom Of The Algarve', 'Kingdom Of The Algarves'), ('Data', 'Datas'), ('Germanic People', 'Germanic Peoples'), ('White', 'Whites')]\n",
            "[('Carne-De-Sol', 'Carne De Sol'), ('Slash-And-Burn', 'Slash And Burn'), ('Sugar-Apple', 'Sugar Apple'), ('South-West Africa Campaign', 'South West Africa Campaign'), ('African-American Vernacular English', 'African American Vernacular English'), ('North-Central American English', 'North Central American English'), ('Alberto Santos-Dumont', 'Alberto Santos Dumont'), ('Mercedes-Benz', 'Mercedes Benz'), ('Semi-Arid', 'Semi Arid'), ('Brazilian Jiu-Jitsu', 'Brazilian Jiu Jitsu'), ('Guinea-Bissau', 'Guinea Bissau'), ('Jean-Baptiste Debret', 'Jean Baptiste Debret'), ('Per-Capita Income', 'Per Capita Income'), ('Galician-Portuguese', 'Galician Portuguese'), ('Samba-Reggae', 'Samba Reggae'), ('Ice-Cream', 'Ice Cream'), ('Governor-General', 'Governor General'), ('Japanese-Brazilian', 'Japanese Brazilian'), ('Middle-East', 'Middle East'), ('Sugar-Cane', 'Sugar Cane'), ('Manuel De Araújo Porto-Alegre, Baron Of Santo Ângelo', 'Manuel De Araújo Porto Alegre, Baron Of Santo Ângelo'), ('Jean-Paul Prates', 'Jean Paul Prates'), ('Italo-Brazilian', 'Italo Brazilian'), ('Black-And-White', 'Black And White'), ('Itapecuru-Mirim', 'Itapecuru Mirim'), ('German-Brazilian', 'German Brazilian'), ('São João Del-Rei', 'São João Del Rei'), ('Hip-Hop', 'Hip Hop'), ('Italian-Brazilian', 'Italian Brazilian'), ('Muhammad Ibn Abd Al-Wahhab', 'Muhammad Ibn Abd Al Wahhab'), ('False-Color', 'False Color')]\n"
          ]
        }
      ],
      "source": [
        "# remove self loops\n",
        "g.remove_edges_from(nx.selfloop_edges(g))\n",
        "\n",
        "# identify duplicates like that: 'network' and 'networks'\n",
        "duplicates = [(node, node + \"s\") \n",
        "              for node in g if node + \"s\" in g\n",
        "             ]\n",
        "\n",
        "for dup in duplicates:\n",
        "  # *dup is a technique named 'unpacking'\n",
        "  g = nx.contracted_nodes(g, *dup, self_loops=False)\n",
        "\n",
        "print(duplicates)\n",
        "\n",
        "duplicates = [(x, y) for x, y in \n",
        "              [(node, node.replace(\"-\", \" \")) for node in g]\n",
        "                if x != y and y in g]\n",
        "print(duplicates)\n",
        "\n",
        "for dup in duplicates:\n",
        "  g = nx.contracted_nodes(g, *dup, self_loops=False)\n",
        "\n",
        "# nx.contracted creates a new node/edge attribute called contraction\n",
        "# the value of the attribute is a dictionary, but GraphML\n",
        "# does not support dictionary attributes\n",
        "nx.set_node_attributes(g, 0,\"contraction\")\n",
        "nx.set_edge_attributes(g, 0,\"contraction\")"
      ]
    },
    {
      "cell_type": "code",
      "execution_count": null,
      "metadata": {
        "colab": {
          "base_uri": "https://localhost:8080/"
        },
        "id": "Bqe2ruDmPcNH",
        "outputId": "b821a495-e589-4169-99cd-d2446adcdf71"
      },
      "outputs": [
        {
          "output_type": "stream",
          "name": "stdout",
          "text": [
            "44564 nodes, 163184 edges\n"
          ]
        }
      ],
      "source": [
        "print(\"{} nodes, {} edges\".format(len(g), nx.number_of_edges(g)))"
      ]
    },
    {
      "cell_type": "code",
      "execution_count": null,
      "metadata": {
        "colab": {
          "base_uri": "https://localhost:8080/",
          "height": 407
        },
        "id": "AaHxaOwMLW9B",
        "outputId": "d71a896e-bfda-4f85-d6fd-87c1cb435c44"
      },
      "outputs": [
        {
          "output_type": "display_data",
          "data": {
            "text/plain": [
              "<Figure size 800x400 with 2 Axes>"
            ],
            "image/png": "[encoded data removed]"
          },
          "metadata": {}
        }
      ],
      "source": [
        "plt.style.use(\"default\")\n",
        "# degree sequence\n",
        "degree_sequence = sorted([d for n, d in g.degree()], reverse=True)  \n",
        "\n",
        "fig, ax = plt.subplots(1,2,figsize=(8,4))\n",
        "\n",
        "# all_data has information about degree_sequence and the width of each bin\n",
        "ax[0].hist(degree_sequence)\n",
        "ax[1].hist(degree_sequence,bins=[1,2,3,4,5,6,7,8,9,10])\n",
        "\n",
        "ax[0].set_title(\"Degree Histogram\")\n",
        "ax[0].set_ylabel(\"Count\")\n",
        "ax[0].set_xlabel(\"Degree\")\n",
        "ax[0].set_ylim(0,15000)\n",
        "\n",
        "ax[1].set_title(\"Degree Histogram - Zoom\")\n",
        "ax[1].set_ylabel(\"Count\")\n",
        "ax[1].set_xlabel(\"Degree\")\n",
        "ax[1].set_xlim(0,10)\n",
        "ax[1].set_ylim(0,15000)\n",
        "\n",
        "plt.tight_layout()\n",
        "plt.show()"
      ]
    },
    {
      "cell_type": "code",
      "execution_count": null,
      "metadata": {
        "colab": {
          "base_uri": "https://localhost:8080/"
        },
        "id": "Br8-5IGIUbVT",
        "outputId": "202fe517-f690-48ed-d426-7a56b705559a"
      },
      "outputs": [
        {
          "output_type": "stream",
          "name": "stdout",
          "text": [
            "14327 nodes, 132947 edges\n"
          ]
        }
      ],
      "source": [
        "# filter nodes with degree greater than or equal to 2\n",
        "core = [node for node, deg in dict(g.degree()).items() if deg >= 2]\n",
        "\n",
        "# select a subgraph with 'core' nodes\n",
        "gsub = nx.subgraph(g, core)\n",
        "\n",
        "print(\"{} nodes, {} edges\".format(len(gsub), nx.number_of_edges(gsub)))\n",
        "\n",
        "nx.write_graphml(gsub, \"cna.graphml\")"
      ]
    },
    {
      "cell_type": "code",
      "source": [
        "from google.colab import files\n",
        "nx.write_graphml(gsub, \"cna.graphml\")\n",
        "files.download(\"cna.graphml\") "
      ],
      "metadata": {
        "colab": {
          "base_uri": "https://localhost:8080/",
          "height": 17
        },
        "id": "gzBWKmwx55tw",
        "outputId": "6d0e3daa-701b-4066-fbfd-77c8cbc94190"
      },
      "execution_count": null,
      "outputs": [
        {
          "output_type": "display_data",
          "data": {
            "text/plain": [
              "<IPython.core.display.Javascript object>"
            ],
            "application/javascript": [
              "\n",
              "    async function download(id, filename, size) {\n",
              "      if (!google.colab.kernel.accessAllowed) {\n",
              "        return;\n",
              "      }\n",
              "      const div = document.createElement('div');\n",
              "      const label = document.createElement('label');\n",
              "      label.textContent = `Downloading \"${filename}\": `;\n",
              "      div.appendChild(label);\n",
              "      const progress = document.createElement('progress');\n",
              "      progress.max = size;\n",
              "      div.appendChild(progress);\n",
              "      document.body.appendChild(div);\n",
              "\n",
              "      const buffers = [];\n",
              "      let downloaded = 0;\n",
              "\n",
              "      const channel = await google.colab.kernel.comms.open(id);\n",
              "      // Send a message to notify the kernel that we're ready.\n",
              "      channel.send({})\n",
              "\n",
              "      for await (const message of channel.messages) {\n",
              "        // Send a message to notify the kernel that we're ready.\n",
              "        channel.send({})\n",
              "        if (message.buffers) {\n",
              "          for (const buffer of message.buffers) {\n",
              "            buffers.push(buffer);\n",
              "            downloaded += buffer.byteLength;\n",
              "            progress.value = downloaded;\n",
              "          }\n",
              "        }\n",
              "      }\n",
              "      const blob = new Blob(buffers, {type: 'application/binary'});\n",
              "      const a = document.createElement('a');\n",
              "      a.href = window.URL.createObjectURL(blob);\n",
              "      a.download = filename;\n",
              "      div.appendChild(a);\n",
              "      a.click();\n",
              "      div.remove();\n",
              "    }\n",
              "  "
            ]
          },
          "metadata": {}
        },
        {
          "output_type": "display_data",
          "data": {
            "text/plain": [
              "<IPython.core.display.Javascript object>"
            ],
            "application/javascript": [
              "download(\"download_49e6e097-f203-40a8-a827-fc506052d98c\", \"cna.graphml\", 14415601)"
            ]
          },
          "metadata": {}
        }
      ]
    },
    {
      "cell_type": "code",
      "execution_count": null,
      "metadata": {
        "colab": {
          "background_save": true
        },
        "id": "GD2AghG1eXMB",
        "outputId": "38d4d2bc-596e-4874-9e4a-9eac636da6b3"
      },
      "outputs": [
        {
          "name": "stdout",
          "output_type": "stream",
          "text": [
            "Nodes removed: 75.63%\n",
            "Edges removed: 41.38%\n",
            "Edges per nodes: 4.10\n"
          ]
        }
      ],
      "source": [
        "print(\"Nodes removed: {:.2f}%\".format(100*(1 - 3296/13526)))\n",
        "print(\"Edges removed: {:.2f}%\".format(100*(1 - 14494/24724)))\n",
        "print(\"Edges per nodes: {:.2f}\".format(13526/3296))"
      ]
    },
    {
      "cell_type": "code",
      "execution_count": null,
      "metadata": {
        "colab": {
          "base_uri": "https://localhost:8080/"
        },
        "id": "gwlRxZ2kmDL-",
        "outputId": "748a1044-e37e-42b2-f7fd-668b39cc7fd6"
      },
      "outputs": [
        {
          "output_type": "stream",
          "name": "stdout",
          "text": [
            "337 Brazil\n",
            "294 Regions Of Brazil\n",
            "261 Time In Brazil\n",
            "250 Northeast Region, Brazil\n",
            "247 Rio Grande Do Norte\n",
            "240 States Of Brazil\n",
            "232 Geographic Coordinate System\n",
            "211 Time Zone\n",
            "180 Municipalities Of Brazil\n",
            "147 President Of Brazil\n",
            "145 Politics Of Brazil\n",
            "145 Elections In Brazil\n",
            "144 Colonial Brazil\n",
            "143 Brazilian Real\n",
            "142 National Congress Of Brazil\n",
            "142 Pantanal\n",
            "141 Brazilian Carnival\n",
            "141 Empire Of Brazil\n",
            "141 Foreign Relations Of Brazil\n",
            "141 Administrative Divisions Of Brazil\n",
            "141 Human Rights In Brazil\n",
            "141 Constitution Of Brazil\n",
            "141 Law Of Brazil\n",
            "141 Agriculture In Brazil\n",
            "141 Indigenous Peoples In Brazil\n",
            "140 First Brazilian Republic\n",
            "140 Languages Of Brazil\n",
            "140 Judiciary Of Brazil\n",
            "140 Economy Of Brazil\n",
            "139 Mining In Brazil\n",
            "139 Economic History Of Brazil\n",
            "139 Geography Of Brazil\n",
            "139 Vargas Era\n",
            "139 History Of Brazil\n",
            "139 National Symbols Of Brazil\n",
            "139 Climate Of Brazil\n",
            "139 Amazon Basin\n",
            "139 Crime In Brazil\n",
            "139 Industry In Brazil\n",
            "139 Transport In Brazil\n",
            "139 Protected Areas Of Brazil\n",
            "139 Tourism In Brazil\n",
            "139 Health In Brazil\n",
            "138 Wildlife Of Brazil\n",
            "138 Energy In Brazil\n",
            "138 Culture Of Brazil\n",
            "138 Automotive Industry In Brazil\n",
            "138 Music Of Brazil\n",
            "138 United Kingdom Of Portugal, Brazil And The Algarves\n",
            "138 Brazilian Antarctica\n",
            "138 Religion In Brazil\n",
            "138 Federal Government Of Brazil\n",
            "138 Index Of Brazil-Related Articles\n",
            "138 Government Of Brazil\n",
            "138 Corruption In Brazil\n",
            "138 Outline Of Brazil\n",
            "138 Taxation In Brazil\n",
            "138 Geology Of Brazil\n",
            "138 Cinema Of Brazil\n",
            "138 Military Dictatorship In Brazil\n",
            "138 Military Of Brazil\n",
            "138 Public Holidays In Brazil\n",
            "138 Television In Brazil\n",
            "138 Bolsa Família\n",
            "138 Law Enforcement In Brazil\n",
            "138 Brazilian Mythology\n",
            "138 Water Supply And Sanitation In Brazil\n",
            "138 Income Inequality In Brazil\n",
            "138 Education In Brazil\n",
            "138 Timeline Of Brazilian History\n",
            "138 Brazilian Literature\n",
            "138 Science And Technology In Brazil\n",
            "138 Central Bank Of Brazil\n",
            "138 Brazilian Art\n",
            "138 Brazilians\n",
            "138 Brazilian Comics\n",
            "138 Demographics Of Brazil\n",
            "138 Telecommunications In Brazil\n",
            "138 Animal Husbandry In Brazil\n",
            "137 Water Resources Management In Brazil\n",
            "137 Fourth Brazilian Republic\n",
            "137 Sport In Brazil\n",
            "137 Malandragem\n",
            "137 Índice Bovespa\n",
            "137 Unemployment In Brazil\n",
            "137 Coastline Of Brazil\n",
            "137 Bibliography Of Brazil\n",
            "137 Brazilian Painting\n",
            "137 Social Issues In Brazil\n",
            "137 Governance Of Brazil\n",
            "137 Youth In Brazil\n",
            "137 Brazilian Cuisine\n",
            "137 Immigration To Brazil\n",
            "137 History Of Brazil (1985–Present)\n",
            "137 Brazilian Sculpture\n",
            "137 Infrastructure Of Brazil\n",
            "137 History Of Brazilian Animation\n",
            "137 Brazilian Science Fiction\n",
            "136 Subdivisions Of Brazil\n",
            "136 Brazilian Armed Forces\n"
          ]
        }
      ],
      "source": [
        "top_indegree = sorted(dict(gsub.in_degree()).items(),\n",
        "                      reverse=True, key=itemgetter(1))[:100]\n",
        "print(\"\\n\".join(map(lambda t: \"{} {}\".format(*reversed(t)), top_indegree)))"
      ]
    }
  ],
  "metadata": {
    "colab": {
      "provenance": []
    },
    "kernelspec": {
      "display_name": "Python 3",
      "name": "python3"
    },
    "language_info": {
      "name": "python"
    }
  },
  "nbformat": 4,
  "nbformat_minor": 0
}